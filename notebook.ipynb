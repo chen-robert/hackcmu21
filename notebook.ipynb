{
  "nbformat": 4,
  "nbformat_minor": 0,
  "metadata": {
    "colab": {
      "name": "Test.ipynb",
      "provenance": [],
      "collapsed_sections": []
    },
    "kernelspec": {
      "name": "python3",
      "display_name": "Python 3"
    },
    "language_info": {
      "name": "python"
    }
  },
  "cells": [
    {
      "cell_type": "code",
      "metadata": {
        "id": "7r56EFezrQ5X",
        "colab": {
          "base_uri": "https://localhost:8080/"
        },
        "outputId": "1f76dfde-7669-432d-cbcd-b5d5429b90f3"
      },
      "source": [
        "import keras\n",
        "from keras.models import *\n",
        "from keras.layers import *\n",
        "from keras.regularizers import *\n",
        "import sklearn\n",
        "import tensorflow as tf\n",
        "import keras.optimizers\n",
        "import sqlite3\n",
        "import datetime\n",
        "import math\n",
        "import seaborn as sns\n",
        "import numpy as np\n",
        "import pandas as pd\n",
        "\n",
        "!pip install livelossplot\n",
        "from livelossplot.keras import PlotLossesCallback"
      ],
      "execution_count": 236,
      "outputs": [
        {
          "output_type": "stream",
          "name": "stdout",
          "text": [
            "Requirement already satisfied: livelossplot in /usr/local/lib/python3.7/dist-packages (0.5.4)\n",
            "Requirement already satisfied: bokeh in /usr/local/lib/python3.7/dist-packages (from livelossplot) (2.3.3)\n",
            "Requirement already satisfied: matplotlib in /usr/local/lib/python3.7/dist-packages (from livelossplot) (3.2.2)\n",
            "Requirement already satisfied: ipython in /usr/local/lib/python3.7/dist-packages (from livelossplot) (5.5.0)\n",
            "Requirement already satisfied: pillow>=7.1.0 in /usr/local/lib/python3.7/dist-packages (from bokeh->livelossplot) (7.1.2)\n",
            "Requirement already satisfied: typing-extensions>=3.7.4 in /usr/local/lib/python3.7/dist-packages (from bokeh->livelossplot) (3.7.4.3)\n",
            "Requirement already satisfied: PyYAML>=3.10 in /usr/local/lib/python3.7/dist-packages (from bokeh->livelossplot) (3.13)\n",
            "Requirement already satisfied: Jinja2>=2.9 in /usr/local/lib/python3.7/dist-packages (from bokeh->livelossplot) (2.11.3)\n",
            "Requirement already satisfied: python-dateutil>=2.1 in /usr/local/lib/python3.7/dist-packages (from bokeh->livelossplot) (2.8.2)\n",
            "Requirement already satisfied: packaging>=16.8 in /usr/local/lib/python3.7/dist-packages (from bokeh->livelossplot) (21.0)\n",
            "Requirement already satisfied: tornado>=5.1 in /usr/local/lib/python3.7/dist-packages (from bokeh->livelossplot) (5.1.1)\n",
            "Requirement already satisfied: numpy>=1.11.3 in /usr/local/lib/python3.7/dist-packages (from bokeh->livelossplot) (1.19.5)\n",
            "Requirement already satisfied: MarkupSafe>=0.23 in /usr/local/lib/python3.7/dist-packages (from Jinja2>=2.9->bokeh->livelossplot) (2.0.1)\n",
            "Requirement already satisfied: pyparsing>=2.0.2 in /usr/local/lib/python3.7/dist-packages (from packaging>=16.8->bokeh->livelossplot) (2.4.7)\n",
            "Requirement already satisfied: six>=1.5 in /usr/local/lib/python3.7/dist-packages (from python-dateutil>=2.1->bokeh->livelossplot) (1.15.0)\n",
            "Requirement already satisfied: pickleshare in /usr/local/lib/python3.7/dist-packages (from ipython->livelossplot) (0.7.5)\n",
            "Requirement already satisfied: pexpect in /usr/local/lib/python3.7/dist-packages (from ipython->livelossplot) (4.8.0)\n",
            "Requirement already satisfied: setuptools>=18.5 in /usr/local/lib/python3.7/dist-packages (from ipython->livelossplot) (57.4.0)\n",
            "Requirement already satisfied: simplegeneric>0.8 in /usr/local/lib/python3.7/dist-packages (from ipython->livelossplot) (0.8.1)\n",
            "Requirement already satisfied: decorator in /usr/local/lib/python3.7/dist-packages (from ipython->livelossplot) (4.4.2)\n",
            "Requirement already satisfied: pygments in /usr/local/lib/python3.7/dist-packages (from ipython->livelossplot) (2.6.1)\n",
            "Requirement already satisfied: prompt-toolkit<2.0.0,>=1.0.4 in /usr/local/lib/python3.7/dist-packages (from ipython->livelossplot) (1.0.18)\n",
            "Requirement already satisfied: traitlets>=4.2 in /usr/local/lib/python3.7/dist-packages (from ipython->livelossplot) (5.1.0)\n",
            "Requirement already satisfied: wcwidth in /usr/local/lib/python3.7/dist-packages (from prompt-toolkit<2.0.0,>=1.0.4->ipython->livelossplot) (0.2.5)\n",
            "Requirement already satisfied: kiwisolver>=1.0.1 in /usr/local/lib/python3.7/dist-packages (from matplotlib->livelossplot) (1.3.2)\n",
            "Requirement already satisfied: cycler>=0.10 in /usr/local/lib/python3.7/dist-packages (from matplotlib->livelossplot) (0.10.0)\n",
            "Requirement already satisfied: ptyprocess>=0.5 in /usr/local/lib/python3.7/dist-packages (from pexpect->ipython->livelossplot) (0.7.0)\n"
          ]
        }
      ]
    },
    {
      "cell_type": "code",
      "metadata": {
        "id": "0cwjFmrZrpjK"
      },
      "source": [
        "conn = sqlite3.connect('database.db')"
      ],
      "execution_count": 237,
      "outputs": []
    },
    {
      "cell_type": "code",
      "metadata": {
        "colab": {
          "base_uri": "https://localhost:8080/"
        },
        "id": "DH_4M_JXr3bA",
        "outputId": "62ab464d-224f-44e0-eb68-d8eef75c094a"
      },
      "source": [
        "raw_data = [i for i in conn.execute(\"SELECT lat, lon, time FROM simulated\")]\n",
        "print(len(raw_data))\n",
        "print(raw_data[0])"
      ],
      "execution_count": 238,
      "outputs": [
        {
          "output_type": "stream",
          "name": "stdout",
          "text": [
            "1930001\n",
            "(40.44245004375, -79.94473601017812, '2021-10-01 00:08:00')\n"
          ]
        }
      ]
    },
    {
      "cell_type": "code",
      "metadata": {
        "id": "04T_hKrwtKfG"
      },
      "source": [
        "def parse_time(time):\n",
        "  time = time.split(\".\")[0]\n",
        "  return datetime.datetime.strptime(time, \"%Y-%m-%d %H:%M:%S\").timestamp()\n",
        "\n",
        "def to_time(sample):\n",
        "  return sample[2]\n",
        "\n",
        "start_time = min(raw_data, key=lambda x: parse_time(to_time(x)))\n",
        "end_time = max(raw_data, key=lambda x: parse_time(to_time(x)))\n",
        "\n",
        "start_time = parse_time(to_time(start_time))\n",
        "end_time = parse_time(to_time(end_time))\n",
        "\n",
        "BUCKETS = 1000\n",
        "\n",
        "processed = []\n",
        "for i in range(BUCKETS):\n",
        "  processed.append([])\n",
        "\n",
        "for sample in raw_data:\n",
        "  curr_time = parse_time(to_time(sample))\n",
        "\n",
        "  curr_idx = math.floor((curr_time - start_time - 1) * BUCKETS / (end_time - start_time))\n",
        "\n",
        "  processed[curr_idx].append(sample)"
      ],
      "execution_count": 244,
      "outputs": []
    },
    {
      "cell_type": "code",
      "metadata": {
        "colab": {
          "base_uri": "https://localhost:8080/"
        },
        "id": "SKZ5G6mE3R9M",
        "outputId": "6434db30-8137-472d-9bcf-3d560a77050d"
      },
      "source": [
        "def dist(p1, p2):\n",
        "  x = p1[0] - p2[0]\n",
        "  y = p1[1] - p2[1]\n",
        "\n",
        "  return math.sqrt(x**2 + y**2)\n",
        "\n",
        "def clean_processed(data):\n",
        "  cleaned = []\n",
        "  for point in data:\n",
        "    if cleaned:\n",
        "      min_pt = min(cleaned, key=lambda x: dist(point, x))\n",
        "    \n",
        "      if dist(min_pt, point) > 0.0002:\n",
        "        cleaned.append(point)\n",
        "    else:\n",
        "      cleaned.append(point)\n",
        "\n",
        "  return cleaned\n",
        "\n",
        "\n",
        "print(len(processed[0]))\n",
        "print(len(clean_processed(processed[0])))"
      ],
      "execution_count": 245,
      "outputs": [
        {
          "output_type": "stream",
          "name": "stdout",
          "text": [
            "9\n",
            "4\n"
          ]
        }
      ]
    },
    {
      "cell_type": "code",
      "metadata": {
        "colab": {
          "base_uri": "https://localhost:8080/",
          "height": 143
        },
        "id": "S0dD5YWVCVhh",
        "outputId": "0507e792-b511-44b7-f5d8-b86a814c585f"
      },
      "source": [
        "pd.DataFrame(data={\n",
        "  \"X\": [1,2,3],\n",
        "  \"Y\": [5,6,7]  \n",
        "})"
      ],
      "execution_count": 246,
      "outputs": [
        {
          "output_type": "execute_result",
          "data": {
            "text/html": [
              "<div>\n",
              "<style scoped>\n",
              "    .dataframe tbody tr th:only-of-type {\n",
              "        vertical-align: middle;\n",
              "    }\n",
              "\n",
              "    .dataframe tbody tr th {\n",
              "        vertical-align: top;\n",
              "    }\n",
              "\n",
              "    .dataframe thead th {\n",
              "        text-align: right;\n",
              "    }\n",
              "</style>\n",
              "<table border=\"1\" class=\"dataframe\">\n",
              "  <thead>\n",
              "    <tr style=\"text-align: right;\">\n",
              "      <th></th>\n",
              "      <th>X</th>\n",
              "      <th>Y</th>\n",
              "    </tr>\n",
              "  </thead>\n",
              "  <tbody>\n",
              "    <tr>\n",
              "      <th>0</th>\n",
              "      <td>1</td>\n",
              "      <td>5</td>\n",
              "    </tr>\n",
              "    <tr>\n",
              "      <th>1</th>\n",
              "      <td>2</td>\n",
              "      <td>6</td>\n",
              "    </tr>\n",
              "    <tr>\n",
              "      <th>2</th>\n",
              "      <td>3</td>\n",
              "      <td>7</td>\n",
              "    </tr>\n",
              "  </tbody>\n",
              "</table>\n",
              "</div>"
            ],
            "text/plain": [
              "   X  Y\n",
              "0  1  5\n",
              "1  2  6\n",
              "2  3  7"
            ]
          },
          "metadata": {},
          "execution_count": 246
        }
      ]
    },
    {
      "cell_type": "code",
      "metadata": {
        "id": "1IJ_7GCyECdh"
      },
      "source": [
        "def extract_points(key_points, data):\n",
        "  ret = []\n",
        "  for point in data:\n",
        "    min_point = min(key_points, key=lambda x: dist(x, point))\n",
        "\n",
        "    if dist(min_point, point) < 0.002:\n",
        "      ret.append(point)\n",
        "\n",
        "  return ret\n"
      ],
      "execution_count": 247,
      "outputs": []
    },
    {
      "cell_type": "code",
      "metadata": {
        "colab": {
          "base_uri": "https://localhost:8080/",
          "height": 325
        },
        "id": "y3ygucBsxJU3",
        "outputId": "9a677a1b-1432-45c5-f59f-37d5c8d47787"
      },
      "source": [
        "def plot(data):\n",
        "  x = [a[0] for a in data]\n",
        "  y = [a[1] for a in data]\n",
        "\n",
        "  print(x)\n",
        "\n",
        "  sns.scatterplot(data=pd.DataFrame(data={\n",
        "      \"latitude\": x,\n",
        "      \"longitude\": y\n",
        "  }), x=\"longitude\", y=\"latitude\")\n",
        "\n",
        "\n",
        "#plot(processed[0])\n",
        "plot(clean_processed(processed[0]))\n",
        "\n",
        "key_points = [\n",
        "    (40.443428578, -79.94563020846905),\n",
        "    (40.44301507, -79.94203969055374),\n",
        "    (40.442504266, -79.9400592703583),\n",
        "    (40.443939382, -79.94218459934854),\n",
        "    (40.441470496, -79.94208799348534),\n",
        "    (40.445252878, -79.94324726384365)\n",
        "]\n",
        "plot(extract_points(key_points, clean_processed(processed[0])))"
      ],
      "execution_count": 248,
      "outputs": [
        {
          "output_type": "stream",
          "name": "stdout",
          "text": [
            "[40.441630003447706, 40.441407902726205, 40.44181660625, 40.441836109926044]\n",
            "[40.441630003447706, 40.44181660625, 40.441836109926044]\n"
          ]
        },
        {
          "output_type": "display_data",
          "data": {
            "image/png": "[encoded data removed]",
            "text/plain": [
              "<Figure size 432x288 with 1 Axes>"
            ]
          },
          "metadata": {
            "needs_background": "light"
          }
        }
      ]
    },
    {
      "cell_type": "code",
      "metadata": {
        "colab": {
          "base_uri": "https://localhost:8080/"
        },
        "id": "NIFL5Z-PFIIZ",
        "outputId": "1f4cefbe-0877-4976-cf10-0fab742c219c"
      },
      "source": [
        "processed[0][0]"
      ],
      "execution_count": 249,
      "outputs": [
        {
          "output_type": "execute_result",
          "data": {
            "text/plain": [
              "(40.441630003447706, -79.94493132726592, '2021-10-01 00:00:17.174412')"
            ]
          },
          "metadata": {},
          "execution_count": 249
        }
      ]
    },
    {
      "cell_type": "code",
      "metadata": {
        "id": "MRTHDfETwWDl"
      },
      "source": [
        "dist_cutoff = 0.001\n",
        "\n",
        "def extract_features_bucket(keypoints, points_in_bucket):\n",
        "  result = []\n",
        "  for i in range(len(keypoints)):\n",
        "    sum = 0\n",
        "    cur_keypoint = keypoints[i]\n",
        "    for point in points_in_bucket:\n",
        "      if(dist(cur_keypoint, point) < dist_cutoff):\n",
        "        sum += 1\n",
        "    result.append(sum)\n",
        "  return result\n",
        "\n",
        "def extract_features_total(keypoints, points):\n",
        "  result = []\n",
        "  for points_in_bucket in points:\n",
        "    result.append(extract_features_bucket(keypoints, points_in_bucket))\n",
        "  df = pd.DataFrame(result, columns = [\"hunan\", \"entropy\", \"resnick\", \"abp\", \"exchange\", \"underground\"])\n",
        "  return df\n",
        "\n",
        "features = extract_features_total(key_points, processed).to_numpy()\n",
        "features = features / features.max()"
      ],
      "execution_count": 250,
      "outputs": []
    },
    {
      "cell_type": "code",
      "metadata": {
        "colab": {
          "base_uri": "https://localhost:8080/"
        },
        "id": "J1bBFM8MYe7T",
        "outputId": "cfeb8f16-5b8a-4033-9403-77a7cd6ab022"
      },
      "source": [
        "features"
      ],
      "execution_count": 251,
      "outputs": [
        {
          "output_type": "execute_result",
          "data": {
            "text/plain": [
              "array([[0.        , 0.        , 0.        , 0.        , 0.        ,\n",
              "        0.        ],\n",
              "       [0.00078064, 0.        , 0.        , 0.        , 0.        ,\n",
              "        0.        ],\n",
              "       [0.00468384, 0.        , 0.        , 0.        , 0.        ,\n",
              "        0.        ],\n",
              "       ...,\n",
              "       [0.        , 0.00468384, 0.        , 0.00312256, 0.        ,\n",
              "        0.        ],\n",
              "       [0.        , 0.00468384, 0.        , 0.00156128, 0.        ,\n",
              "        0.        ],\n",
              "       [0.        , 0.00546448, 0.        , 0.00078064, 0.        ,\n",
              "        0.        ]])"
            ]
          },
          "metadata": {},
          "execution_count": 251
        }
      ]
    },
    {
      "cell_type": "code",
      "metadata": {
        "id": "r3-PIIn9To23"
      },
      "source": [
        "X_data = []\n",
        "y_data = []\n",
        "\n",
        "TIME_INTERVAL = 50\n",
        "for i in range(BUCKETS - TIME_INTERVAL - 1):\n",
        "  X_data.append(features[i:i+TIME_INTERVAL])\n",
        "  y_data.append(features[i + TIME_INTERVAL])\n",
        "\n",
        "X_data = np.array(X_data)\n",
        "y_data = np.array(y_data)"
      ],
      "execution_count": 252,
      "outputs": []
    },
    {
      "cell_type": "code",
      "metadata": {
        "colab": {
          "base_uri": "https://localhost:8080/"
        },
        "id": "X-dE-Zh-YYEg",
        "outputId": "876011a7-c9b8-4d1c-c098-cb302c287633"
      },
      "source": [
        "X_data[0]"
      ],
      "execution_count": 253,
      "outputs": [
        {
          "output_type": "execute_result",
          "data": {
            "text/plain": [
              "array([[0.        , 0.        , 0.        , 0.        , 0.        ,\n",
              "        0.        ],\n",
              "       [0.00078064, 0.        , 0.        , 0.        , 0.        ,\n",
              "        0.        ],\n",
              "       [0.00468384, 0.        , 0.        , 0.        , 0.        ,\n",
              "        0.        ],\n",
              "       [0.00312256, 0.00078064, 0.00546448, 0.00078064, 0.        ,\n",
              "        0.        ],\n",
              "       [0.0117096 , 0.00468384, 0.01014832, 0.00546448, 0.        ,\n",
              "        0.        ],\n",
              "       [0.01405152, 0.0039032 , 0.01014832, 0.0039032 , 0.        ,\n",
              "        0.        ],\n",
              "       [0.02029664, 0.00468384, 0.00936768, 0.00468384, 0.        ,\n",
              "        0.        ],\n",
              "       [0.02576112, 0.00546448, 0.01092896, 0.00546448, 0.        ,\n",
              "        0.        ],\n",
              "       [0.02576112, 0.00546448, 0.01405152, 0.00546448, 0.        ,\n",
              "        0.        ],\n",
              "       [0.03669009, 0.00624512, 0.01405152, 0.00624512, 0.        ,\n",
              "        0.        ],\n",
              "       [0.03747073, 0.01014832, 0.01249024, 0.01014832, 0.        ,\n",
              "        0.        ],\n",
              "       [0.03747073, 0.01405152, 0.0117096 , 0.01405152, 0.        ,\n",
              "        0.        ],\n",
              "       [0.04371585, 0.01795472, 0.0117096 , 0.01717408, 0.00078064,\n",
              "        0.        ],\n",
              "       [0.04137393, 0.01873536, 0.01639344, 0.01717408, 0.00078064,\n",
              "        0.        ],\n",
              "       [0.04293521, 0.02419984, 0.01795472, 0.01717408, 0.00156128,\n",
              "        0.        ],\n",
              "       [0.04527713, 0.02263856, 0.01717408, 0.01483216, 0.00156128,\n",
              "        0.0039032 ],\n",
              "       [0.04215457, 0.0234192 , 0.0156128 , 0.0156128 , 0.00546448,\n",
              "        0.00468384],\n",
              "       [0.04996097, 0.02810304, 0.02185792, 0.01795472, 0.0039032 ,\n",
              "        0.0039032 ],\n",
              "       [0.04605777, 0.03044496, 0.0156128 , 0.01639344, 0.00624512,\n",
              "        0.00468384],\n",
              "       [0.04371585, 0.02576112, 0.01717408, 0.01249024, 0.00468384,\n",
              "        0.00546448],\n",
              "       [0.03825137, 0.0273224 , 0.0156128 , 0.01092896, 0.00468384,\n",
              "        0.00468384],\n",
              "       [0.02966432, 0.0312256 , 0.01327088, 0.01014832, 0.00702576,\n",
              "        0.00624512],\n",
              "       [0.02966432, 0.03278689, 0.01483216, 0.00936768, 0.01014832,\n",
              "        0.0078064 ],\n",
              "       [0.03278689, 0.0312256 , 0.019516  , 0.00702576, 0.01092896,\n",
              "        0.00936768],\n",
              "       [0.0273224 , 0.03278689, 0.01717408, 0.00858704, 0.01092896,\n",
              "        0.01014832],\n",
              "       [0.02029664, 0.03512881, 0.01405152, 0.00702576, 0.01483216,\n",
              "        0.00936768],\n",
              "       [0.02029664, 0.03200625, 0.01483216, 0.01014832, 0.0117096 ,\n",
              "        0.00858704],\n",
              "       [0.02419984, 0.0273224 , 0.0117096 , 0.00936768, 0.01405152,\n",
              "        0.01092896],\n",
              "       [0.02810304, 0.02498048, 0.01405152, 0.01092896, 0.01717408,\n",
              "        0.01483216],\n",
              "       [0.03044496, 0.0273224 , 0.01327088, 0.0117096 , 0.01873536,\n",
              "        0.01717408],\n",
              "       [0.03356753, 0.03512881, 0.01327088, 0.01405152, 0.0156128 ,\n",
              "        0.01873536],\n",
              "       [0.02966432, 0.03825137, 0.01249024, 0.01639344, 0.01327088,\n",
              "        0.01795472],\n",
              "       [0.03747073, 0.03825137, 0.02107728, 0.01327088, 0.01795472,\n",
              "        0.02107728],\n",
              "       [0.04215457, 0.04059329, 0.01873536, 0.01014832, 0.0156128 ,\n",
              "        0.01873536],\n",
              "       [0.04527713, 0.05308353, 0.01795472, 0.01873536, 0.02185792,\n",
              "        0.02029664],\n",
              "       [0.03903201, 0.07025761, 0.019516  , 0.02263856, 0.0234192 ,\n",
              "        0.02029664],\n",
              "       [0.03981265, 0.07494145, 0.02419984, 0.02419984, 0.02810304,\n",
              "        0.02576112],\n",
              "       [0.04293521, 0.08430913, 0.0234192 , 0.02888368, 0.03278689,\n",
              "        0.03200625],\n",
              "       [0.04215457, 0.09211553, 0.01717408, 0.0312256 , 0.0273224 ,\n",
              "        0.03200625],\n",
              "       [0.05386417, 0.08977361, 0.01717408, 0.0273224 , 0.02966432,\n",
              "        0.02810304],\n",
              "       [0.05854801, 0.0952381 , 0.02263856, 0.03512881, 0.04137393,\n",
              "        0.03044496],\n",
              "       [0.06088993, 0.09836066, 0.02263856, 0.03903201, 0.04371585,\n",
              "        0.02966432],\n",
              "       [0.05698673, 0.10850898, 0.02029664, 0.04449649, 0.05308353,\n",
              "        0.02810304],\n",
              "       [0.07103825, 0.11241218, 0.01249024, 0.04839969, 0.04761905,\n",
              "        0.0273224 ],\n",
              "       [0.06167057, 0.11787666, 0.00936768, 0.05386417, 0.04527713,\n",
              "        0.02888368],\n",
              "       [0.06557377, 0.12802498, 0.0117096 , 0.05854801, 0.04918033,\n",
              "        0.02810304],\n",
              "       [0.06869633, 0.12724434, 0.01405152, 0.06869633, 0.05230289,\n",
              "        0.02966432],\n",
              "       [0.05308353, 0.12802498, 0.01795472, 0.06401249, 0.04918033,\n",
              "        0.03512881],\n",
              "       [0.05152225, 0.1264637 , 0.01795472, 0.05932865, 0.04215457,\n",
              "        0.03512881],\n",
              "       [0.04918033, 0.1264637 , 0.02185792, 0.06010929, 0.04371585,\n",
              "        0.04215457]])"
            ]
          },
          "metadata": {},
          "execution_count": 253
        }
      ]
    },
    {
      "cell_type": "code",
      "metadata": {
        "id": "5pFW8T7dXB_F"
      },
      "source": [
        "from sklearn.model_selection import train_test_split\n",
        "X_train, X_test, y_train, y_test = train_test_split(X_data, y_data, test_size=0.33, random_state=42)"
      ],
      "execution_count": 261,
      "outputs": []
    },
    {
      "cell_type": "code",
      "metadata": {
        "id": "ZyinOoL6LwQZ",
        "colab": {
          "base_uri": "https://localhost:8080/"
        },
        "outputId": "84dbc617-b083-4763-dcc5-0ced848dd977"
      },
      "source": [
        "hidden_dim = 16\n",
        "num_classes = y_data.shape[1]\n",
        "\n",
        "model = keras.Sequential()\n",
        "model.add(GRU(hidden_dim, return_sequences=False, input_shape=X_data.shape[1:])) #, kernel_regularizer=L1L2(l1=0.02, l2=0.02)))\n",
        "model.add(Dense(num_classes, activation=\"sigmoid\"))\n",
        "\n",
        "model.compile(loss=\"mean_squared_error\", optimizer=tf.keras.optimizers.RMSprop(learning_rate=0.0001))\n",
        "\n",
        "model.summary()"
      ],
      "execution_count": 264,
      "outputs": [
        {
          "output_type": "stream",
          "name": "stdout",
          "text": [
            "Model: \"sequential_19\"\n",
            "_________________________________________________________________\n",
            "Layer (type)                 Output Shape              Param #   \n",
            "=================================================================\n",
            "gru_14 (GRU)                 (None, 16)                1152      \n",
            "_________________________________________________________________\n",
            "dense_14 (Dense)             (None, 6)                 102       \n",
            "=================================================================\n",
            "Total params: 1,254\n",
            "Trainable params: 1,254\n",
            "Non-trainable params: 0\n",
            "_________________________________________________________________\n"
          ]
        }
      ]
    },
    {
      "cell_type": "code",
      "metadata": {
        "colab": {
          "base_uri": "https://localhost:8080/",
          "height": 637
        },
        "id": "VaRMcBi0uQpA",
        "outputId": "f8643f83-3033-4192-b9dd-ccc35970b863"
      },
      "source": [
        "history = model.fit(X_train, y_train,\n",
        " batch_size=16,\n",
        " epochs=100,\n",
        " callbacks=[PlotLossesCallback()],\n",
        " validation_data=(X_test, y_test)\n",
        ")"
      ],
      "execution_count": 265,
      "outputs": [
        {
          "output_type": "display_data",
          "data": {
            "image/png": "[encoded data removed]",
            "text/plain": [
              "<Figure size 864x576 with 2 Axes>"
            ]
          },
          "metadata": {
            "needs_background": "light"
          }
        },
        {
          "output_type": "stream",
          "name": "stdout",
          "text": [
            "Loss\n",
            "\ttraining         \t (min:    0.002, max:    0.145, cur:    0.002)\n",
            "\tvalidation       \t (min:    0.001, max:    0.142, cur:    0.001)\n"
          ]
        }
      ]
    },
    {
      "cell_type": "code",
      "metadata": {
        "colab": {
          "base_uri": "https://localhost:8080/"
        },
        "id": "CWmx-9k-tN00",
        "outputId": "5a85518e-bf00-43ed-e055-7fdabd0709a5"
      },
      "source": [
        ""
      ],
      "execution_count": null,
      "outputs": [
        {
          "output_type": "execute_result",
          "data": {
            "text/plain": [
              "1634252755.0"
            ]
          },
          "metadata": {},
          "execution_count": 32
        }
      ]
    },
    {
      "cell_type": "code",
      "metadata": {
        "id": "rGMA8zNJtRyi"
      },
      "source": [
        ""
      ],
      "execution_count": null,
      "outputs": []
    }
  ]
}